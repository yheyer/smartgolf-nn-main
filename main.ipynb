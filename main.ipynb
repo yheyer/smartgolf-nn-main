{
 "cells": [
  {
   "cell_type": "code",
   "execution_count": 183,
   "metadata": {},
   "outputs": [],
   "source": [
    "import torch\n",
    "import torch.nn as nn\n",
    "import torch.nn.functional as F\n",
    "from torch.utils.data.sampler import SubsetRandomSampler\n",
    "from trickdataset import TrickDataset\n",
    "import numpy as np\n",
    "from random import shuffle\n",
    "import math\n",
    "import matplotlib.pyplot as plt\n",
    "from sklearn.model_selection import train_test_split\n",
    "from sklearn.metrics  import classification_report, matthews_corrcoef\n",
    "from torchmetrics import ConfusionMatrix\n",
    "import seaborn as sn\n",
    "import pandas as pd"
   ]
  },
  {
   "attachments": {},
   "cell_type": "markdown",
   "metadata": {},
   "source": [
    "### Setting hyperparams"
   ]
  },
  {
   "cell_type": "code",
   "execution_count": 184,
   "metadata": {},
   "outputs": [],
   "source": [
    "# How often will the network be trained on the entire dataset\n",
    "num_epochs = 20\n",
    "\n",
    "# Batch size\n",
    "batch_size = 15\n",
    "\n",
    "# By how much the weights get updated\n",
    "learning_rate = 0.0008\n",
    "\n",
    "# 120 samples in x channels\n",
    "input_size = 3\n",
    "\n",
    "# Shuffle the dataset\n",
    "shuffle_dataset = True\n",
    "shuffle_seed = np.random.randint(45)\n",
    "\n",
    "# How many parts of the dataset should be used for testing\n",
    "test_split = 0.2\n",
    "\n",
    "# Use LSTM instead of Convolutional model:\n",
    "UseLSTM = False\n",
    "if UseLSTM:\n",
    "    num_hidden = 64\n",
    "    num_layers = 3"
   ]
  },
  {
   "attachments": {},
   "cell_type": "markdown",
   "metadata": {},
   "source": [
    "### Loading Dataset"
   ]
  },
  {
   "cell_type": "code",
   "execution_count": 185,
   "metadata": {},
   "outputs": [
    {
     "name": "stdout",
     "output_type": "stream",
     "text": [
      "golfdatanew ['0', '1', '2']\n"
     ]
    }
   ],
   "source": [
    "\n",
    "trick_list = ['0', '1', '2']\n",
    "trickdataset = TrickDataset(rootfolder=\"golfdatanew\", label_list=trick_list)\n",
    "\n",
    "#  Get number of tricks the network will be trained on\n",
    "num_samples = len(trickdataset)\n",
    "\n",
    "# Get number of classes\n",
    "num_classes = len(trick_list)\n",
    "\n",
    "# Get number of training cycles per epoch\n",
    "num_iterations = math.ceil(num_samples/batch_size)\n",
    "\n",
    "# List of indices corresponding to each trick sample [0, 1, 2, .. n_tricks]\n",
    "indices = list(range(num_samples))\n",
    "\n",
    "if shuffle_dataset:\n",
    "    np.random.seed(shuffle_seed)\n",
    "    np.random.shuffle(indices)\n",
    "\n",
    "# Index at which the dataset should be split in train and test parts\n",
    "split_idx = int(np.floor(test_split * num_samples))\n",
    "\n",
    "# Lists containing all indexes belonging to train and test parts\n",
    "train_indices, test_indices = indices[split_idx:], indices[:split_idx]\n",
    "\n",
    "train_sampler = SubsetRandomSampler(train_indices)\n",
    "test_sampler = SubsetRandomSampler(test_indices)\n",
    "\n",
    "# Splitting dataset into train and test loaders \n",
    "train_loader = torch.utils.data.DataLoader(trickdataset, batch_size=batch_size, sampler=train_sampler)\n",
    "test_loader = torch.utils.data.DataLoader(trickdataset, batch_size=batch_size, sampler=test_sampler)"
   ]
  },
  {
   "attachments": {},
   "cell_type": "markdown",
   "metadata": {},
   "source": [
    "### Model definition"
   ]
  },
  {
   "cell_type": "code",
   "execution_count": 186,
   "metadata": {},
   "outputs": [],
   "source": [
    "class tricknetCONV(nn.Module):\n",
    "    def __init__(self, input_size, n_classes):\n",
    "        super(tricknetCONV,self).__init__()\n",
    "\n",
    "        # Activation functions\n",
    "        self.relu = nn.ReLU()\n",
    "        self.sigmoid = nn.Sigmoid()\n",
    "\n",
    "        # NN layers\n",
    "        self.fc1 = nn.Linear(\n",
    "            in_features=input_size,\n",
    "            out_features=256\n",
    "        )\n",
    "\n",
    "        self.fc2 = nn.Linear(\n",
    "            in_features=256,\n",
    "            out_features=64\n",
    "        )\n",
    "\n",
    "        self.conv1 = nn.Conv1d(\n",
    "            in_channels=64, \n",
    "            out_channels=64,\n",
    "            kernel_size=5,\n",
    "            stride=1,\n",
    "            padding=1\n",
    "            )\n",
    "\n",
    "        self.conv2 = nn.Conv1d(\n",
    "            in_channels=64, \n",
    "            out_channels=32,\n",
    "            kernel_size=5,\n",
    "            stride=1,\n",
    "            padding=1\n",
    "            )\n",
    "\n",
    "        self.fc3 = nn.Linear(\n",
    "            in_features=32,\n",
    "            out_features=64\n",
    "        )\n",
    "        \n",
    "        self.fc4 = nn.Linear(\n",
    "            in_features=64,\n",
    "            out_features=32\n",
    "        )\n",
    "\n",
    "        self.fc5 = nn.Linear(\n",
    "            in_features=192,\n",
    "            out_features=n_classes\n",
    "        )\n",
    "\n",
    "        self.maxPool = torch.nn.MaxPool1d(6, stride=None, padding=0, dilation=1, return_indices=False, ceil_mode=False)\n",
    "\n",
    "    def forward(self, x):\n",
    "        \n",
    "        x = self.relu(x)\n",
    "        x = self.fc1(x)\n",
    "        x = self.relu(x)\n",
    "        x = self.fc2(x)\n",
    "        x = torch.permute(x, (0,2,1))\n",
    "        x = self.relu(x)\n",
    "        x = self.conv1(x)\n",
    "        x = self.maxPool(x)\n",
    "        x = self.relu(x)\n",
    "        x = self.conv2(x)\n",
    "        x = torch.permute(x, (0,2,1))\n",
    "        x = self.relu(x)\n",
    "        x = self.fc3(x)\n",
    "        x = self.relu(x)\n",
    "        x = self.fc4(x)\n",
    "        x = torch.flatten(x, start_dim=1)\n",
    "        x = self.sigmoid(x)\n",
    "        out = self.fc5(x)\n",
    "\n",
    "        return out"
   ]
  },
  {
   "attachments": {},
   "cell_type": "markdown",
   "metadata": {},
   "source": [
    "### LSTM Model"
   ]
  },
  {
   "cell_type": "code",
   "execution_count": 187,
   "metadata": {},
   "outputs": [],
   "source": [
    "class tricknetLSTM(nn.Module):\n",
    "    def __init__(self, input_size, n_hidden, n_layers, n_classes):\n",
    "        super(tricknetLSTM,self).__init__()\n",
    "        \n",
    "        self.n_layers = 2\n",
    "        self.n_hidden = 120\n",
    "        \n",
    "        # Activation functions\n",
    "        self.relu = nn.ReLU()\n",
    "\n",
    "        # Layers\n",
    "        self.lstm = nn.LSTM(input_size, self.n_hidden, self.n_layers, batch_first=True)\n",
    "        self.fc = nn. Linear(self.n_hidden, n_classes)\n",
    "\n",
    "\n",
    "    def forward(self, x):\n",
    "        \n",
    "        # initial hidden state of lstm \n",
    "        h0 = torch.zeros(self.n_layers, x.size(0), self.n_hidden)\n",
    "        c0 = torch.zeros(self.n_layers, x.size(0), self.n_hidden)\n",
    "        \n",
    "        # Desired shape of x = (Batch size, sequence length, input_size)\n",
    "        #x = torch.reshape(x, (5, 240, 9))\n",
    "        out, _ = self.lstm(x, (h0, c0))\n",
    "        self.relu(out)\n",
    "\n",
    "        # all batches, last step of sequence, all entries\n",
    "        out = out[:, -1, :]\n",
    "        # Linear layer as classifier\n",
    "        out = self.fc(out)\n",
    "    \n",
    "        return out"
   ]
  },
  {
   "attachments": {},
   "cell_type": "markdown",
   "metadata": {},
   "source": [
    "### Instatiating model, loss, and optimizer"
   ]
  },
  {
   "cell_type": "code",
   "execution_count": 188,
   "metadata": {},
   "outputs": [],
   "source": [
    "device = torch.device('cuda' if torch.cuda.is_available() else 'cpu')\n",
    "model = tricknetCONV(input_size, num_classes).to(device)\n",
    "if UseLSTM:\n",
    "    model = tricknetLSTM(input_size, num_hidden, num_layers, num_classes).to(device)\n",
    "criterion = nn.CrossEntropyLoss()\n",
    "optimizer = torch.optim.Adam(model.parameters(), lr=learning_rate)\n",
    "scheduler = torch.optim.lr_scheduler.MultiStepLR(optimizer, milestones=[10,15,20], gamma=0.1)"
   ]
  },
  {
   "attachments": {},
   "cell_type": "markdown",
   "metadata": {},
   "source": [
    "### Training loop"
   ]
  },
  {
   "cell_type": "code",
   "execution_count": 189,
   "metadata": {},
   "outputs": [],
   "source": [
    "def training():\n",
    "\n",
    "    all_losses = []\n",
    "    \n",
    "    # Early stopping parameters\n",
    "    earlystop = True\n",
    "    loss_threshold = 0.1\n",
    "    last_loss = 999\n",
    "    patience = 5\n",
    "    strike = 0\n",
    "\n",
    "    for epoch in range(num_epochs):\n",
    "        \n",
    "        for i, (tricks, labels) in enumerate(train_loader):\n",
    "            \n",
    "            tricks = tricks.to(device)\n",
    "            labels = labels.to(device)\n",
    "\n",
    "            # Forward pass: Get outputs and calculate loss\n",
    "            outputs = model(tricks)\n",
    "            loss = criterion(outputs, labels) \n",
    "\n",
    "            # Backward pass: Optimize parameters\n",
    "            optimizer.zero_grad()\n",
    "            loss.backward()\n",
    "            optimizer.step()\n",
    "\n",
    "            if (i+1) % 5 == 0:\n",
    "                print(f'Epoch {epoch+1}/{num_epochs}, step {i+1}/{num_iterations}, Loss: {loss.item():.4f}')\n",
    "\n",
    "            if earlystop:          \n",
    "                  \n",
    "                last_loss = loss\n",
    "\n",
    "                if last_loss <= loss_threshold:\n",
    "                    strike += 1\n",
    "\n",
    "                    if strike >= patience:\n",
    "                        return model\n",
    "    \n",
    "        scheduler.step()\n",
    "            \n",
    "    return model"
   ]
  },
  {
   "attachments": {},
   "cell_type": "markdown",
   "metadata": {},
   "source": [
    "### Testing the model"
   ]
  },
  {
   "cell_type": "code",
   "execution_count": 190,
   "metadata": {},
   "outputs": [],
   "source": [
    "def test_model():\n",
    "\n",
    "    # no_grad prevents weights from being updated\n",
    "    with torch.no_grad():\n",
    "        num_correct = 0\n",
    "        num_samples = 0\n",
    "\n",
    "        for i, (trick, label) in enumerate(test_loader):\n",
    "\n",
    "            \n",
    "            trick = trick.to(device)\n",
    "            label = label.to(device)\n",
    "            outputs = model(trick)\n",
    "            \n",
    "            # Return index and value of the predicted trick (dont need the index)\n",
    "            _, prediction = torch.max(outputs, 1)\n",
    "            \n",
    "            num_samples += label.shape[0]\n",
    "            \n",
    "            if i < 1: \n",
    "                predictions = prediction\n",
    "                targets = label\n",
    "            else: \n",
    "                predictions = torch.cat((predictions, prediction), 0)\n",
    "                targets = torch.cat((targets, label), 0)\n",
    "\n",
    "            num_correct += (prediction == label).sum().item()\n",
    "\n",
    "        accuracy = 100 * (num_correct/num_samples)\n",
    "        print(f'Correct: {num_correct}, Total samples: {num_samples}, accuracy: {accuracy:.2f}%')\n",
    "\n",
    "        return targets, predictions\n",
    "        "
   ]
  },
  {
   "cell_type": "code",
   "execution_count": 191,
   "metadata": {},
   "outputs": [
    {
     "name": "stdout",
     "output_type": "stream",
     "text": [
      "Epoch 1/20, step 5/19, Loss: 1.0705\n",
      "Epoch 1/20, step 10/19, Loss: 1.0589\n",
      "Epoch 1/20, step 15/19, Loss: 1.1156\n",
      "Epoch 2/20, step 5/19, Loss: 1.0870\n",
      "Epoch 2/20, step 10/19, Loss: 1.0784\n",
      "Epoch 2/20, step 15/19, Loss: 1.1300\n",
      "Epoch 3/20, step 5/19, Loss: 1.1166\n",
      "Epoch 3/20, step 10/19, Loss: 1.0842\n",
      "Epoch 3/20, step 15/19, Loss: 1.0911\n",
      "Epoch 4/20, step 5/19, Loss: 1.0776\n",
      "Epoch 4/20, step 10/19, Loss: 1.1753\n",
      "Epoch 4/20, step 15/19, Loss: 1.0863\n",
      "Epoch 5/20, step 5/19, Loss: 1.1310\n",
      "Epoch 5/20, step 10/19, Loss: 1.1155\n",
      "Epoch 5/20, step 15/19, Loss: 1.0888\n",
      "Epoch 6/20, step 5/19, Loss: 1.0745\n",
      "Epoch 6/20, step 10/19, Loss: 1.1011\n",
      "Epoch 6/20, step 15/19, Loss: 1.1127\n",
      "Epoch 7/20, step 5/19, Loss: 1.1069\n",
      "Epoch 7/20, step 10/19, Loss: 1.0605\n",
      "Epoch 7/20, step 15/19, Loss: 1.1335\n",
      "Epoch 8/20, step 5/19, Loss: 1.0766\n",
      "Epoch 8/20, step 10/19, Loss: 1.0669\n",
      "Epoch 8/20, step 15/19, Loss: 1.1115\n",
      "Epoch 9/20, step 5/19, Loss: 1.1229\n",
      "Epoch 9/20, step 10/19, Loss: 1.0905\n",
      "Epoch 9/20, step 15/19, Loss: 1.1159\n",
      "Epoch 10/20, step 5/19, Loss: 1.0467\n",
      "Epoch 10/20, step 10/19, Loss: 1.0378\n",
      "Epoch 10/20, step 15/19, Loss: 0.9653\n",
      "Epoch 11/20, step 5/19, Loss: 0.9445\n",
      "Epoch 11/20, step 10/19, Loss: 0.9575\n",
      "Epoch 11/20, step 15/19, Loss: 0.9859\n",
      "Epoch 12/20, step 5/19, Loss: 0.9357\n",
      "Epoch 12/20, step 10/19, Loss: 0.8445\n",
      "Epoch 12/20, step 15/19, Loss: 0.9322\n",
      "Epoch 13/20, step 5/19, Loss: 0.8727\n",
      "Epoch 13/20, step 10/19, Loss: 0.9279\n",
      "Epoch 13/20, step 15/19, Loss: 0.8591\n",
      "Epoch 14/20, step 5/19, Loss: 0.9369\n",
      "Epoch 14/20, step 10/19, Loss: 0.9389\n",
      "Epoch 14/20, step 15/19, Loss: 0.9062\n",
      "Epoch 15/20, step 5/19, Loss: 0.9608\n",
      "Epoch 15/20, step 10/19, Loss: 0.8762\n",
      "Epoch 15/20, step 15/19, Loss: 0.9265\n",
      "Epoch 16/20, step 5/19, Loss: 0.8820\n",
      "Epoch 16/20, step 10/19, Loss: 0.8704\n",
      "Epoch 16/20, step 15/19, Loss: 0.8441\n",
      "Epoch 17/20, step 5/19, Loss: 0.7845\n",
      "Epoch 17/20, step 10/19, Loss: 0.9791\n",
      "Epoch 17/20, step 15/19, Loss: 0.9261\n",
      "Epoch 18/20, step 5/19, Loss: 0.8350\n",
      "Epoch 18/20, step 10/19, Loss: 0.7923\n",
      "Epoch 18/20, step 15/19, Loss: 0.8371\n",
      "Epoch 19/20, step 5/19, Loss: 0.9505\n",
      "Epoch 19/20, step 10/19, Loss: 0.8058\n",
      "Epoch 19/20, step 15/19, Loss: 0.9005\n",
      "Epoch 20/20, step 5/19, Loss: 0.7695\n",
      "Epoch 20/20, step 10/19, Loss: 0.8518\n",
      "Epoch 20/20, step 15/19, Loss: 0.9464\n"
     ]
    }
   ],
   "source": [
    "model = training()"
   ]
  },
  {
   "attachments": {},
   "cell_type": "markdown",
   "metadata": {},
   "source": [
    "### Saving the Model"
   ]
  },
  {
   "cell_type": "code",
   "execution_count": 192,
   "metadata": {},
   "outputs": [],
   "source": [
    "torch.save(model.state_dict(), 'model.pth')"
   ]
  },
  {
   "cell_type": "code",
   "execution_count": 193,
   "metadata": {},
   "outputs": [
    {
     "data": {
      "text/plain": [
       "<All keys matched successfully>"
      ]
     },
     "execution_count": 193,
     "metadata": {},
     "output_type": "execute_result"
    }
   ],
   "source": [
    "loaded_model = tricknetCONV(input_size, num_classes)\n",
    "loaded_model.load_state_dict(torch.load('model.pth'))"
   ]
  },
  {
   "attachments": {},
   "cell_type": "markdown",
   "metadata": {},
   "source": [
    "### Model evaluation"
   ]
  },
  {
   "cell_type": "code",
   "execution_count": 194,
   "metadata": {},
   "outputs": [
    {
     "name": "stdout",
     "output_type": "stream",
     "text": [
      "tricknetCONV(\n",
      "  (relu): ReLU()\n",
      "  (sigmoid): Sigmoid()\n",
      "  (fc1): Linear(in_features=3, out_features=256, bias=True)\n",
      "  (fc2): Linear(in_features=256, out_features=64, bias=True)\n",
      "  (conv1): Conv1d(64, 64, kernel_size=(5,), stride=(1,), padding=(1,))\n",
      "  (conv2): Conv1d(64, 32, kernel_size=(5,), stride=(1,), padding=(1,))\n",
      "  (fc3): Linear(in_features=32, out_features=64, bias=True)\n",
      "  (fc4): Linear(in_features=64, out_features=32, bias=True)\n",
      "  (fc5): Linear(in_features=192, out_features=3, bias=True)\n",
      "  (maxPool): MaxPool1d(kernel_size=6, stride=6, padding=0, dilation=1, ceil_mode=False)\n",
      ")\n",
      "Correct: 37, Total samples: 56, accuracy: 66.07%\n",
      "              precision    recall  f1-score   support\n",
      "\n",
      "           0       0.75      0.19      0.30        16\n",
      "           1       0.55      0.85      0.67        20\n",
      "           2       0.81      0.85      0.83        20\n",
      "\n",
      "    accuracy                           0.66        56\n",
      "   macro avg       0.70      0.63      0.60        56\n",
      "weighted avg       0.70      0.66      0.62        56\n",
      "\n",
      "0.512073274285687\n"
     ]
    },
    {
     "data": {
      "image/png": "[encoded data removed]",
      "text/plain": [
       "<Figure size 640x480 with 2 Axes>"
      ]
     },
     "metadata": {},
     "output_type": "display_data"
    }
   ],
   "source": [
    "print(model.eval())\n",
    "targets, predictions= test_model()\n",
    "confmat = ConfusionMatrix(task='multiclass', num_classes=num_classes)\n",
    "\n",
    "## Confusion Matrix\n",
    "matrix = confmat(predictions, targets)\n",
    "plt.title('Confusion Matrix')\n",
    "ax = sn.heatmap(pd.DataFrame(matrix), annot=True, cmap=\"YlGnBu\", cbar_kws={'label': 'Scale'})\n",
    "ax.set(ylabel=\"True Label\", xlabel=\"Predicted Label\")\n",
    "matrix = torch.Tensor.numpy(matrix)\n",
    "\n",
    "\n",
    "## Report of classification\n",
    "report = classification_report(targets,predictions)\n",
    "print(report)\n",
    "\n",
    "## mathews correlation \n",
    "mathew = matthews_corrcoef(targets,predictions)\n",
    "\n",
    "print(mathew)"
   ]
  },
  {
   "attachments": {},
   "cell_type": "markdown",
   "metadata": {},
   "source": []
  },
  {
   "attachments": {},
   "cell_type": "markdown",
   "metadata": {},
   "source": [
    "Confidence Evaluation"
   ]
  },
  {
   "cell_type": "code",
   "execution_count": 195,
   "metadata": {},
   "outputs": [
    {
     "ename": "RuntimeError",
     "evalue": "shape '[1, 120, 1]' is invalid for input of size 150",
     "output_type": "error",
     "traceback": [
      "\u001b[1;31m---------------------------------------------------------------------------\u001b[0m",
      "\u001b[1;31mRuntimeError\u001b[0m                              Traceback (most recent call last)",
      "Cell \u001b[1;32mIn[195], line 27\u001b[0m\n\u001b[0;32m     25\u001b[0m kickflip_360 \u001b[39m=\u001b[39m []\n\u001b[0;32m     26\u001b[0m \u001b[39mfor\u001b[39;00m number, trick \u001b[39min\u001b[39;00m \u001b[39menumerate\u001b[39m(trickdataset):\n\u001b[1;32m---> 27\u001b[0m     df_trick \u001b[39m=\u001b[39m get_trick_confidence(number)\n\u001b[0;32m     28\u001b[0m     confidence\u001b[39m.\u001b[39mappend(df_trick[\u001b[39m1\u001b[39m])\n\u001b[0;32m     29\u001b[0m     labeled_trick\u001b[39m.\u001b[39mappend(df_trick[\u001b[39m0\u001b[39m])\n",
      "Cell \u001b[1;32mIn[195], line 5\u001b[0m, in \u001b[0;36mget_trick_confidence\u001b[1;34m(number)\u001b[0m\n\u001b[0;32m      4\u001b[0m \u001b[39mdef\u001b[39;00m \u001b[39mget_trick_confidence\u001b[39m(number):\n\u001b[1;32m----> 5\u001b[0m     load_trick \u001b[39m=\u001b[39m trickdataset[number][\u001b[39m0\u001b[39;49m]\u001b[39m.\u001b[39;49mview(\u001b[39m1\u001b[39;49m,\u001b[39m120\u001b[39;49m,\u001b[39m1\u001b[39;49m)\n\u001b[0;32m      6\u001b[0m     out \u001b[39m=\u001b[39m loaded_model(load_trick)\n\u001b[0;32m      7\u001b[0m     _, prediction \u001b[39m=\u001b[39m torch\u001b[39m.\u001b[39mmax(out,\u001b[39m1\u001b[39m)\n",
      "\u001b[1;31mRuntimeError\u001b[0m: shape '[1, 120, 1]' is invalid for input of size 150"
     ]
    }
   ],
   "source": [
    "\n",
    "from turtle import color\n",
    "\n",
    "## Get the trick name and the max value confidence from a specific trick\n",
    "def get_trick_confidence(number):\n",
    "    load_trick = trickdataset[number][0].view(1,120,1)\n",
    "    out = loaded_model(load_trick)\n",
    "    _, prediction = torch.max(out,1)\n",
    "    sm = nn.Softmax(dim=1)\n",
    "    conf_numbers = sm(out).detach().numpy()\n",
    "    conf_numbers = conf_numbers[0]\n",
    "    conf_number = sm(out).max().detach().numpy()\n",
    "    trick_confidence = [trick_list[prediction],conf_number,conf_numbers[0],conf_numbers[1],conf_numbers[2],conf_numbers[3],conf_numbers[4]]\n",
    "    return trick_confidence\n",
    "\n",
    "\n",
    "list_of_confidences = pd.DataFrame()\n",
    "\n",
    "real_trick = []\n",
    "labeled_trick = []\n",
    "confidence = []\n",
    "Ollie_confidence = []\n",
    "fs_180 = []\n",
    "bs_180 = []\n",
    "kickflip = []\n",
    "kickflip_360 = []\n",
    "for number, trick in enumerate(trickdataset):\n",
    "    df_trick = get_trick_confidence(number)\n",
    "    confidence.append(df_trick[1])\n",
    "    labeled_trick.append(df_trick[0])\n",
    "    Ollie_confidence.append(df_trick[2])\n",
    "    fs_180.append(df_trick[3])\n",
    "    bs_180.append(df_trick[4])\n",
    "    kickflip.append(df_trick[6])\n",
    "    kickflip_360.append(df_trick[5])\n",
    "\n",
    "\n",
    "list_of_confidences = [labeled_trick,confidence]\n",
    "\n",
    "## Dataset of the confidence of each trick \n",
    "df_confidence = pd.DataFrame(\n",
    "    {\n",
    "        'Trick':labeled_trick,\n",
    "        'Confidence_max':confidence,\n",
    "        'Confidence_ollie':Ollie_confidence,\n",
    "        'Confidence_fs_180':fs_180,\n",
    "        'Confidence_bs_180':bs_180,\n",
    "        'Confidence_kickflip_360':kickflip_360,\n",
    "        'Confidence_kickflip':kickflip\n",
    "        \n",
    "    }\n",
    ")\n",
    "\n",
    "\n",
    "df_max_confidence = df_confidence.iloc[:,:2]\n",
    "\n",
    "df_max_confidence_trick = pd.DataFrame(df_max_confidence.groupby(['Trick']).mean())\n",
    "\n",
    "## Mean Confidence Value Plot\n",
    "df_max_confidence.groupby(['Trick']).mean().plot(c='r')\n",
    "plt.title('Mean Confidence Value')\n",
    "plt.show()\n",
    "\n",
    "\n",
    "## Confidence value of each Trick\n",
    "plt.scatter('Trick','Confidence_max',data=df_max_confidence,color='red')\n",
    "plt.title('Confidence value of each Trick')\n",
    "plt.show()\n"
   ]
  },
  {
   "attachments": {},
   "cell_type": "markdown",
   "metadata": {},
   "source": [
    "Correlation Matrix of Model Confidence of Each Trick Type"
   ]
  },
  {
   "cell_type": "code",
   "execution_count": null,
   "metadata": {},
   "outputs": [
    {
     "ename": "NameError",
     "evalue": "name 'df_confidence' is not defined",
     "output_type": "error",
     "traceback": [
      "\u001b[1;31m---------------------------------------------------------------------------\u001b[0m",
      "\u001b[1;31mNameError\u001b[0m                                 Traceback (most recent call last)",
      "Cell \u001b[1;32mIn[21], line 2\u001b[0m\n\u001b[0;32m      1\u001b[0m \u001b[39m## Correlation matrix of the model confidence on the different tricks\u001b[39;00m\n\u001b[1;32m----> 2\u001b[0m corr_matrix \u001b[39m=\u001b[39m sn\u001b[39m.\u001b[39mheatmap((df_confidence[df_confidence\u001b[39m.\u001b[39mcolumns[\u001b[39m1\u001b[39m:]])\u001b[39m.\u001b[39mcorr(), vmin\u001b[39m=\u001b[39m\u001b[39m-\u001b[39m\u001b[39m1\u001b[39m, vmax\u001b[39m=\u001b[39m\u001b[39m1\u001b[39m, annot\u001b[39m=\u001b[39m\u001b[39mTrue\u001b[39;00m)\n\u001b[0;32m      3\u001b[0m \u001b[39mprint\u001b[39m(corr_matrix)\n",
      "\u001b[1;31mNameError\u001b[0m: name 'df_confidence' is not defined"
     ]
    }
   ],
   "source": [
    "\n",
    "## Correlation matrix of the model confidence on the different tricks\n",
    "corr_matrix = sn.heatmap((df_confidence[df_confidence.columns[1:]]).corr(), vmin=-1, vmax=1, annot=True)\n",
    "print(corr_matrix)"
   ]
  },
  {
   "attachments": {},
   "cell_type": "markdown",
   "metadata": {},
   "source": [
    "### Loading exported model and predicting trick"
   ]
  },
  {
   "cell_type": "code",
   "execution_count": null,
   "metadata": {},
   "outputs": [],
   "source": [
    "trick_nr = 99\n",
    "load_trick = trickdataset[trick_nr][0].view(1,120,9)\n",
    "out_1 = loaded_model(load_trick)\n",
    "_, prediction = torch.max(out_1, 1)\n",
    "sm = nn.Softmax(dim=1) \n",
    "print(f'Trick: {trick_list[prediction]}, Confidence: {(sm(out_1).max()*100):.2f}%, Actual: {trick_list[trickdataset[trick_nr][1]]}')\n"
   ]
  }
 ],
 "metadata": {
  "kernelspec": {
   "display_name": "Python 3.10.11 ('smartgolf')",
   "language": "python",
   "name": "python3"
  },
  "language_info": {
   "codemirror_mode": {
    "name": "ipython",
    "version": 3
   },
   "file_extension": ".py",
   "mimetype": "text/x-python",
   "name": "python",
   "nbconvert_exporter": "python",
   "pygments_lexer": "ipython3",
   "version": "3.10.11"
  },
  "orig_nbformat": 4,
  "vscode": {
   "interpreter": {
    "hash": "e60087a0d16939b8cafda6af0ebeecefc1adbf740638b355f6d4f9f6f7bc6fd5"
   }
  }
 },
 "nbformat": 4,
 "nbformat_minor": 2
}
